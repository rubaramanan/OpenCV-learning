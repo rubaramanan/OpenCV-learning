{
 "cells": [
  {
   "cell_type": "code",
   "execution_count": 2,
   "metadata": {},
   "outputs": [],
   "source": [
    "import cv2\n",
    "import numpy as np\n",
    "import matplotlib.pyplot as plt"
   ]
  },
  {
   "cell_type": "code",
   "execution_count": 3,
   "metadata": {},
   "outputs": [],
   "source": [
    "img = cv2.imread('cat.jpg')\n",
    "cv2.imshow('Cat', img)\n",
    "cv2.waitKey(0)\n",
    "cv2.destroyAllWindows()"
   ]
  },
  {
   "cell_type": "markdown",
   "metadata": {},
   "source": [
    "### OpenCV provides a wide range of image processing filters that you can apply to manipulate and enhance images. These filters are typically used to perform tasks like blurring, sharpening, edge detection, and more. Here are some common filters available in OpenCV:\n",
    "\n",
    "    1. Gaussian Blur Filter:\n",
    "        cv2.GaussianBlur(): Applies a Gaussian blur to an image. It's commonly used to reduce noise and smoothen images.\n"
   ]
  },
  {
   "cell_type": "code",
   "execution_count": 4,
   "metadata": {},
   "outputs": [],
   "source": [
    "blur_image = cv2.GaussianBlur(img, (5,5), 5)\n",
    "cv2.imshow('Blurred image', blur_image)\n",
    "cv2.waitKey(0)\n",
    "cv2.destroyAllWindows()"
   ]
  },
  {
   "cell_type": "markdown",
   "metadata": {},
   "source": [
    "\n",
    "    2. Median Filter:\n",
    "        cv2.medianBlur(): Replaces each pixel's value with the median value in its neighborhood. It's useful for reducing salt-and-pepper noise.\n"
   ]
  },
  {
   "cell_type": "markdown",
   "metadata": {},
   "source": [
    "\n",
    "    3. Bilateral Filter:\n",
    "        cv2.bilateralFilter(): Preserves edges while reducing noise. It's suitable for denoising while keeping important details.\n"
   ]
  },
  {
   "cell_type": "markdown",
   "metadata": {},
   "source": [
    "\n",
    "    4. Box Filter:\n",
    "        cv2.boxFilter(): Applies a simple averaging filter. It computes the average value of pixels in the specified neighborhood.\n"
   ]
  },
  {
   "cell_type": "markdown",
   "metadata": {},
   "source": [
    "\n",
    "    5. Sobel Filter:\n",
    "        cv2.Sobel(): Performs edge detection by convolving the image with Sobel kernels for horizontal and vertical gradients.\n"
   ]
  },
  {
   "cell_type": "markdown",
   "metadata": {},
   "source": [
    "\n",
    "    6. Scharr Filter:\n",
    "        cv2.Scharr(): Another filter for edge detection, similar to the Sobel filter but with a different convolution kernel.\n"
   ]
  },
  {
   "cell_type": "markdown",
   "metadata": {},
   "source": [
    "    7. Canny Edge Detector:\n",
    "        cv2.Canny(): Detects edges in an image using the Canny edge detection algorithm."
   ]
  },
  {
   "cell_type": "code",
   "execution_count": null,
   "metadata": {},
   "outputs": [],
   "source": [
    "canny_edge = cv2.Canny(img, 50, 150)\n",
    "cv2.imshow('Canny edge', canny_edge)\n",
    "cv2.waitKey(0)\n",
    "cv2.destroyAllWindows()"
   ]
  },
  {
   "cell_type": "markdown",
   "metadata": {},
   "source": [
    "    8. Laplacian Filter:\n",
    "        cv2.Laplacian(): Applies the Laplacian filter for edge detection and fine detail enhancement.\n"
   ]
  },
  {
   "cell_type": "markdown",
   "metadata": {},
   "source": [
    "\n",
    "    9. Custom Convolution Filter:\n",
    "        You can create your custom convolution kernel using cv2.filter2D() for tasks such as sharpening and custom filtering."
   ]
  }
 ],
 "metadata": {
  "kernelspec": {
   "display_name": "base",
   "language": "python",
   "name": "python3"
  },
  "language_info": {
   "codemirror_mode": {
    "name": "ipython",
    "version": 3
   },
   "file_extension": ".py",
   "mimetype": "text/x-python",
   "name": "python",
   "nbconvert_exporter": "python",
   "pygments_lexer": "ipython3",
   "version": "3.10.9"
  },
  "orig_nbformat": 4
 },
 "nbformat": 4,
 "nbformat_minor": 2
}
