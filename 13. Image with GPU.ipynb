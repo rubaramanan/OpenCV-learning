{
 "cells": [
  {
   "cell_type": "code",
   "execution_count": 11,
   "metadata": {},
   "outputs": [],
   "source": [
    "import cv2\n",
    "import numpy as np\n",
    "import ipywidgets\n",
    "from IPython.display import display\n",
    "import numpy as np\n",
    "import base64\n",
    "import time"
   ]
  },
  {
   "cell_type": "code",
   "execution_count": 12,
   "metadata": {},
   "outputs": [
    {
     "name": "stdout",
     "output_type": "stream",
     "text": [
      "4.8.0-dev\n"
     ]
    }
   ],
   "source": [
    "print(cv2.__version__)"
   ]
  },
  {
   "cell_type": "markdown",
   "metadata": {},
   "source": [
    "#### Read image with CPU"
   ]
  },
  {
   "cell_type": "code",
   "execution_count": 13,
   "metadata": {},
   "outputs": [
    {
     "name": "stdout",
     "output_type": "stream",
     "text": [
      "time_taken=0.0010030269622802734\n"
     ]
    }
   ],
   "source": [
    "\n",
    "img_cpu = cv2.imread('cat.jpg')\n",
    "start_time = time.time()\n",
    "img_cpu = cv2.cvtColor(img_cpu, cv2.COLOR_BGR2GRAY)\n",
    "end_time = time.time()\n",
    "\n",
    "time_taken = end_time - start_time\n",
    "\n",
    "cv2.imshow('cat', img_cpu)\n",
    "cv2.waitKey(0)\n",
    "cv2.destroyAllWindows()\n",
    "\n",
    "print(f\"{time_taken=}\")"
   ]
  },
  {
   "cell_type": "markdown",
   "metadata": {},
   "source": [
    "#### Read image with GPU"
   ]
  },
  {
   "cell_type": "code",
   "execution_count": 14,
   "metadata": {},
   "outputs": [
    {
     "name": "stdout",
     "output_type": "stream",
     "text": [
      "time_taken=0.004016399383544922\n"
     ]
    }
   ],
   "source": [
    "\n",
    "img = cv2.imread('cat.jpg')\n",
    "\n",
    "# upload image to GPU\n",
    "img_gpu = cv2.cuda_GpuMat()\n",
    "img_gpu.upload(img)\n",
    "\n",
    "start_time = time.time()\n",
    "img_gpu = cv2.cuda.cvtColor(img_gpu, cv2.COLOR_BGR2GRAY)\n",
    "end_time = time.time()\n",
    "# img_gpu is GPUMAT data type, to change this as MAT we can use download function\n",
    "img_out = img_gpu.download()\n",
    "\n",
    "time_taken = end_time - start_time\n",
    "\n",
    "cv2.imshow('cat', img_out)\n",
    "cv2.waitKey(0)\n",
    "cv2.destroyAllWindows()\n",
    "\n",
    "print(f\"{time_taken=}\")"
   ]
  }
 ],
 "metadata": {
  "kernelspec": {
   "display_name": "base",
   "language": "python",
   "name": "python3"
  },
  "language_info": {
   "codemirror_mode": {
    "name": "ipython",
    "version": 3
   },
   "file_extension": ".py",
   "mimetype": "text/x-python",
   "name": "python",
   "nbconvert_exporter": "python",
   "pygments_lexer": "ipython3",
   "version": "3.10.9"
  },
  "orig_nbformat": 4
 },
 "nbformat": 4,
 "nbformat_minor": 2
}
