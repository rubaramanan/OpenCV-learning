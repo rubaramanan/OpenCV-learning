{
 "cells": [
  {
   "cell_type": "code",
   "execution_count": 1,
   "metadata": {},
   "outputs": [],
   "source": [
    "import cv2\n",
    "import numpy as np\n",
    "import matplotlib.pyplot as plt"
   ]
  },
  {
   "cell_type": "code",
   "execution_count": 2,
   "metadata": {},
   "outputs": [],
   "source": [
    "img = cv2.imread('cat.jpg')\n",
    "cv2.imshow('Cat', img)\n",
    "cv2.waitKey(0)\n",
    "cv2.destroyAllWindows()"
   ]
  },
  {
   "cell_type": "markdown",
   "metadata": {},
   "source": [
    "### Draw Line"
   ]
  },
  {
   "cell_type": "code",
   "execution_count": 3,
   "metadata": {},
   "outputs": [],
   "source": [
    "img_line = cv2.line(img, \n",
    "                    pt1=(0, 0), \n",
    "                    pt2=(255, 255), \n",
    "                    color=(255, 0, 0), \n",
    "                    thickness=10)\n",
    "cv2.imshow('Cat line', img_line)\n",
    "cv2.waitKey(0)\n",
    "cv2.destroyAllWindows()"
   ]
  },
  {
   "cell_type": "markdown",
   "metadata": {},
   "source": [
    "### Draw rectangle"
   ]
  },
  {
   "cell_type": "code",
   "execution_count": 4,
   "metadata": {},
   "outputs": [],
   "source": [
    "img_rectangle = cv2.rectangle(img, \n",
    "                              pt1=(0,0),  # top left hand corner of rectangle\n",
    "                              pt2=(50, 60),  # bottom right hand corner of rectangle\n",
    "                              color=(0, 255, 0), \n",
    "                              thickness=8)\n",
    "\n",
    "cv2.imshow('Cat Rectangle', img_rectangle)\n",
    "cv2.waitKey(0)\n",
    "cv2.destroyAllWindows()"
   ]
  },
  {
   "cell_type": "markdown",
   "metadata": {},
   "source": [
    "### Filled rectangle"
   ]
  },
  {
   "cell_type": "code",
   "execution_count": 5,
   "metadata": {},
   "outputs": [],
   "source": [
    "imgfill_rec = cv2.rectangle(img,\n",
    "                            pt1=(10, 10),\n",
    "                            pt2=(50, 60),\n",
    "                            color=(0, 0, 255),\n",
    "                            thickness=-1)\n",
    "cv2.imshow('Cat fill rectangle', imgfill_rec)\n",
    "cv2.waitKey(0)\n",
    "cv2.destroyAllWindows()"
   ]
  },
  {
   "cell_type": "markdown",
   "metadata": {},
   "source": [
    "### Fill rectangle method:2\n"
   ]
  },
  {
   "cell_type": "code",
   "execution_count": 6,
   "metadata": {},
   "outputs": [],
   "source": [
    "vertices = [[10, 10],\n",
    "            [50, 10],\n",
    "            [50, 60],\n",
    "            [10, 60]]\n",
    "vertices = np.array(vertices, np.int32)\n",
    "vertices.reshape([-1, 1, 2])\n",
    "\n",
    "img_fill = cv2.fillPoly(img,\n",
    "                        [vertices],\n",
    "                        color=(0, 0, 255))\n",
    "\n",
    "cv2.imshow('Filled rect', img_fill)\n",
    "cv2.waitKey(0)\n",
    "cv2.destroyAllWindows()"
   ]
  },
  {
   "cell_type": "markdown",
   "metadata": {},
   "source": [
    "### Draw Circle"
   ]
  },
  {
   "cell_type": "code",
   "execution_count": 7,
   "metadata": {},
   "outputs": [],
   "source": [
    "img_circle = cv2.circle(img,\n",
    "                        center=(200, 200),\n",
    "                        radius=25,\n",
    "                        color=(128, 128, 128),\n",
    "                        thickness=5)\n",
    "\n",
    "cv2.imshow('Img circle', img_circle)\n",
    "cv2.waitKey(0)\n",
    "cv2.destroyAllWindows()"
   ]
  },
  {
   "cell_type": "markdown",
   "metadata": {},
   "source": [
    "### Draw text"
   ]
  },
  {
   "cell_type": "code",
   "execution_count": 8,
   "metadata": {},
   "outputs": [],
   "source": [
    "font = cv2.FONT_HERSHEY_SIMPLEX\n",
    "\n",
    "img_text = cv2.putText(img,\n",
    "                       text='Ruba',\n",
    "                       org=(300, 500),\n",
    "                       fontFace=font,\n",
    "                       fontScale=2,\n",
    "                       color=(0, 130, 50),\n",
    "                       thickness=15,\n",
    "                       lineType=cv2.LINE_AA)\n",
    "\n",
    "cv2.imshow('img text', img_text)\n",
    "cv2.waitKey(0)\n",
    "cv2.destroyAllWindows()"
   ]
  },
  {
   "cell_type": "markdown",
   "metadata": {},
   "source": [
    "### Draw elipse"
   ]
  },
  {
   "cell_type": "code",
   "execution_count": 11,
   "metadata": {},
   "outputs": [],
   "source": [
    "img_elipse = cv2.ellipse(img,\n",
    "                        center=(300, 300),\n",
    "                        axes=(300, 200),\n",
    "                        angle=30,\n",
    "                        startAngle=0,\n",
    "                        endAngle=360,\n",
    "                        color=(128, 0, 0),\n",
    "                        thickness=4)\n",
    "\n",
    "cv2.imshow('img elipse', img_elipse)\n",
    "cv2.waitKey(0)\n",
    "cv2.destroyAllWindows()"
   ]
  }
 ],
 "metadata": {
  "kernelspec": {
   "display_name": "base",
   "language": "python",
   "name": "python3"
  },
  "language_info": {
   "codemirror_mode": {
    "name": "ipython",
    "version": 3
   },
   "file_extension": ".py",
   "mimetype": "text/x-python",
   "name": "python",
   "nbconvert_exporter": "python",
   "pygments_lexer": "ipython3",
   "version": "3.10.9"
  },
  "orig_nbformat": 4
 },
 "nbformat": 4,
 "nbformat_minor": 2
}
